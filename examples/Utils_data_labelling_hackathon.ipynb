{
 "cells": [
  {
   "cell_type": "code",
   "execution_count": 1,
   "metadata": {},
   "outputs": [
    {
     "ename": "ModuleNotFoundError",
     "evalue": "No module named 'oci'",
     "output_type": "error",
     "traceback": [
      "\u001b[1;31m---------------------------------------------------------------------------\u001b[0m",
      "\u001b[1;31mModuleNotFoundError\u001b[0m                       Traceback (most recent call last)",
      "Cell \u001b[1;32mIn[1], line 1\u001b[0m\n\u001b[1;32m----> 1\u001b[0m \u001b[39mimport\u001b[39;00m \u001b[39moci\u001b[39;00m\n\u001b[0;32m      2\u001b[0m \u001b[39mimport\u001b[39;00m \u001b[39mjson\u001b[39;00m\n\u001b[0;32m      3\u001b[0m \u001b[39mfrom\u001b[39;00m \u001b[39moci\u001b[39;00m\u001b[39m.\u001b[39;00m\u001b[39mconfig\u001b[39;00m \u001b[39mimport\u001b[39;00m from_file\n",
      "\u001b[1;31mModuleNotFoundError\u001b[0m: No module named 'oci'"
     ]
    }
   ],
   "source": [
    "import oci\n",
    "import json\n",
    "from oci.config import from_file\n",
    "\n",
    "\n",
    "compId = \"\" ## Enter your compartment id\n",
    "dataset_id = \"\" ## Enter your dataset id\n",
    "namespace = \"colmanhack\"\n",
    "config = from_file('~/.oci/config', 'DEFAULT') ## Enter your config file path instead of \"~/.oci/config\""
   ]
  },
  {
   "cell_type": "code",
   "execution_count": null,
   "metadata": {},
   "outputs": [],
   "source": [
    "retry_strategy = oci.retry.DEFAULT_RETRY_STRATEGY\n",
    "\n",
    "data_labeling_service_client = oci.data_labeling_service.DataLabelingManagementClient(config=config)\n",
    "data_labeling_service_dataplane_client = oci.data_labeling_service_dataplane.DataLabelingClient(config=config)\n",
    "\n",
    "\n",
    "### List all datasets in the compartment\n",
    "dataset_list = data_labeling_service_client.list_datasets(compId)\n",
    "\n",
    "#print(dataset_list.data.items)\n",
    "# dataset_info = data_labeling_service_client.get_dataset(dataset_id)\n",
    "# print(dataset_info.data.label_set)"
   ]
  },
  {
   "cell_type": "code",
   "execution_count": null,
   "metadata": {},
   "outputs": [],
   "source": [
    "### Getting all label's names\n",
    "get_dataset_response = data_labeling_service_dataplane_client.get_dataset(dataset_id=dataset_id, retry_strategy=retry_strategy)\n",
    "dataset_data = get_dataset_response.data\n",
    "dataset_label_set = dataset_data.label_set\n",
    "# print(dataset_label_set)\n",
    "dataset_labels = []\n",
    "\n",
    "for label in dataset_label_set.items:\n",
    "    dataset_labels.append(label.name)\n",
    "\n",
    "\n",
    "# for label in dataset_labels:\n",
    "#     print(label)\n",
    "\n",
    "# label[0] - Arabica_Coffee_Cercospora\n",
    "# label[1] - Arabica_Coffee_Health\n",
    "# label[2] - Arabica_Coffee_Miner\n",
    "# label[3] - Arabica_Coffee_Phoma\n",
    "# label[4] - Arabica_Coffee_Rust"
   ]
  },
  {
   "cell_type": "code",
   "execution_count": null,
   "metadata": {},
   "outputs": [
    {
     "name": "stdout",
     "output_type": "stream",
     "text": [
      "1539\n"
     ]
    }
   ],
   "source": [
    "# list_annotations_response = data_labeling_service_dataplane_client.list_annotations(compartment_id=compId, dataset_id=dataset_id)\n",
    "\n",
    "# entity = list_annotations_response = data_labeling_service_dataplane_client.get_annotation(list_annotations_response.data.items[0].id)\n",
    "# print(entity.data)\n",
    "\n",
    "\n",
    "### Getting number of records in the dataset\n",
    "summarize_record_analytics_resoponse = data_labeling_service_dataplane_client.summarize_record_analytics(compartment_id=compId,dataset_id=dataset_id, retry_strategy=retry_strategy)\n",
    "records_num = summarize_record_analytics_resoponse.data.items[0].count\n",
    "records_num = int(records_num)\n",
    "print(records_num)\n",
    "\n",
    "\n",
    "GenericEntity = oci.data_labeling_service_dataplane.models.GenericEntity\n",
    "CreateAnnotationDetails = oci.data_labeling_service_dataplane.models.CreateAnnotationDetails\n",
    "Label = oci.data_labeling_service_dataplane.models.Label\n",
    "\n",
    "### Adding labels to records\n",
    "while (records_num>0):\n",
    "    records_num -= 1000;\n",
    "    list_records_response = data_labeling_service_dataplane_client.list_records(compartment_id=compId, dataset_id=dataset_id, limit=1000, is_labeled=False, retry_strategy=retry_strategy)\n",
    "    data = list_records_response.data\n",
    "    items = data.items\n",
    "    # print(len(items))\n",
    "    # print(items[1].id)\n",
    "    # print(items[9])\n",
    "    record_id = ''\n",
    "    record_label = ''\n",
    "\n",
    "    for item in items:\n",
    "        record_id = item.id\n",
    "\n",
    "        if 'Cercospora' in item.name: # dataset_labels[0]\n",
    "            record_label=dataset_labels[0]\n",
    "            # print(item.name)\n",
    "        elif 'Health' in item.name: # dataset_labels[1]\n",
    "            record_label=dataset_labels[1]\n",
    "            # print(item.name)\n",
    "        elif 'Miner' in item.name: # dataset_labels[2]\n",
    "            record_label=dataset_labels[2]\n",
    "            # print(item.name)\n",
    "        elif 'Phoma' in item.name: # dataset_labels[3]\n",
    "            record_label=dataset_labels[3]\n",
    "            # print(item.name)\n",
    "        elif 'Rust' in item.name: # dataset_labels[4]\n",
    "            record_label=dataset_labels[4]\n",
    "            # print(item.name)\n",
    "            # print(item.id)\n",
    "    \n",
    "        labels = [Label(label=record_label)]\n",
    "        entity_type = \"GENERIC\"\n",
    "        entity_obj = [GenericEntity(entity_type=entity_type, labels=labels)]\n",
    "\n",
    "        create_annotation_details_obj = CreateAnnotationDetails(record_id=record_id, compartment_id=compId, entities=entity_obj)\n",
    "        anno_response = data_labeling_service_dataplane_client.create_annotation(create_annotation_details=create_annotation_details_obj, retry_strategy=retry_strategy)"
   ]
  },
  {
   "cell_type": "code",
   "execution_count": null,
   "metadata": {},
   "outputs": [],
   "source": [
    "    # GenericEntity = oci.data_labeling_service_dataplane.models.GenericEntity\n",
    "    # CreateAnnotationDetails = oci.data_labeling_service_dataplane.models.CreateAnnotationDetails\n",
    "    # Label = oci.data_labeling_service_dataplane.models.Label\n",
    "    # # labels_obj = []\n",
    "    # # labels_obj.append(Label(label=\"Arabica_Coffee_Rust\"))\n",
    "    # labels_obj = [Label(label=\"Arabica_Coffee_Rust\")]\n",
    "\n",
    "    # entity_type = \"GENERIC\"\n",
    "    # entity_obj = [GenericEntity(entity_type=entity_type, labels=labels_obj)]\n",
    "    # id = 'ocid1.datalabelingrecord.oc1.il-jerusalem-1.amaaaaaa7qgio4qahog42qa65blqetizdoil4x4n7jpqiqbbxyrnwwqai4tq'\n",
    "\n",
    "    # create_annotation_details_obj = CreateAnnotationDetails(record_id=id, compartment_id=compId, entities=entity_obj)\n",
    "    # anno_response = data_labeling_service_dataplane_client.create_annotation(create_annotation_details=create_annotation_details_obj)\n",
    "\n",
    "    # # create_annotation_response = data_labeling_service_dataplane_client.create_annotation(\n",
    "    # # create_annotation_details=oci.data_labeling_service_dataplane.models.CreateAnnotationDetails(\n",
    "    # #     record_id=\"ocid1.datalabelingrecord.oc1.il-jerusalem-1.amaaaaaa7qgio4qahog42qa65blqetizdoil4x4n7jpqiqbbxyrnwwqai4tq\",\n",
    "    # #     compartment_id=compId,\n",
    "    # #     entities=[\n",
    "    # #         oci.data_labeling_service_dataplane.models.GenericEntity(\n",
    "    # #             entity_type=\"GENERIC\",\n",
    "    # #             labels=[\n",
    "    # #                 oci.data_labeling_service_dataplane.models.Label(\n",
    "    # #                     label=\"Arabica_Coffee_Rust\")])]))\n",
    "    "
   ]
  },
  {
   "cell_type": "code",
   "execution_count": null,
   "metadata": {},
   "outputs": [],
   "source": [
    "### Delete all the annotations\n",
    "\n",
    "# list_annotations_response = data_labeling_service_dataplane_client.list_annotations(compartment_id=compId, dataset_id=dataset_id, limit=1000, retry_strategy=retry_strategy)\n",
    "# # print(list_annotations_response.data.items)\n",
    "\n",
    "# count = 0\n",
    "# for anno in list_annotations_response.data.items:\n",
    "#     data_labeling_service_dataplane_client.delete_annotation(annotation_id=anno.id)\n",
    "#     count+=1\n",
    "#     # print(anno.id)\n",
    "\n",
    "# # print(count)\n",
    "\n",
    "\n"
   ]
  },
  {
   "cell_type": "code",
   "execution_count": null,
   "metadata": {},
   "outputs": [],
   "source": [
    "### Annotations total number\n",
    "\n",
    "# summarize_record_analytics_resoponse = data_labeling_service_dataplane_client.summarize_annotation_analytics(compartment_id=compId,dataset_id=dataset_id)\n",
    "# num = summarize_record_analytics_resoponse.data.items[0].count\n",
    "# num = int(num)\n",
    "# print(num)"
   ]
  }
 ],
 "metadata": {
  "kernelspec": {
   "display_name": "cli-3",
   "language": "python",
   "name": "python3"
  },
  "language_info": {
   "codemirror_mode": {
    "name": "ipython",
    "version": 3
   },
   "file_extension": ".py",
   "mimetype": "text/x-python",
   "name": "python",
   "nbconvert_exporter": "python",
   "pygments_lexer": "ipython3",
   "version": "3.11.3"
  },
  "orig_nbformat": 4,
  "vscode": {
   "interpreter": {
    "hash": "5cf7e630ed50a64873c2cbd66b41bbe65202279bd7fd8bcdde1f767fd08a1cb6"
   }
  }
 },
 "nbformat": 4,
 "nbformat_minor": 2
}
